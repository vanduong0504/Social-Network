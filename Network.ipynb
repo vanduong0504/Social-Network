{
 "cells": [
  {
   "cell_type": "code",
   "execution_count": null,
   "metadata": {},
   "outputs": [],
   "source": [
    "import pandas as pd\n",
    "import networkx as nx\n",
    "import community as community_louvain\n",
    "import matplotlib.cm as cm\n",
    "import matplotlib.pyplot as plt\n",
    "import numpy as np\n",
    "from sklearn import cluster"
   ]
  },
  {
   "cell_type": "markdown",
   "metadata": {},
   "source": [
    "# **1. DATA ANALYST**"
   ]
  },
  {
   "cell_type": "code",
   "execution_count": null,
   "metadata": {},
   "outputs": [],
   "source": [
    "book1 = pd.read_csv('/content/drive/MyDrive/network/data/asoiaf-book1-edges.csv')\n",
    "book1.drop(['Type', 'book'],axis=1, inplace=True)"
   ]
  },
  {
   "cell_type": "markdown",
   "metadata": {},
   "source": [
    "**1.1 EGDES CHECKING**"
   ]
  },
  {
   "cell_type": "code",
   "execution_count": null,
   "metadata": {},
   "outputs": [],
   "source": [
    "r, c = book1.shape\n",
    "print('NUMBER OF EDGES: {}'.format(r))"
   ]
  },
  {
   "cell_type": "markdown",
   "metadata": {},
   "source": [
    "**So there are *684* EDGES in our network. But are there any DUPLICATE EDGES?**"
   ]
  },
  {
   "cell_type": "markdown",
   "metadata": {},
   "source": [
    "**1.2  DUPLICATE EGDES CHECKING**"
   ]
  },
  {
   "cell_type": "code",
   "execution_count": null,
   "metadata": {},
   "outputs": [],
   "source": [
    "print('Duplicate rows of dataFrame:',book1.duplicated().sum())"
   ]
  },
  {
   "cell_type": "markdown",
   "metadata": {},
   "source": [
    "**NO DUPLICATE. Let's check how many NODES in our network?**"
   ]
  },
  {
   "cell_type": "markdown",
   "metadata": {},
   "source": [
    "**1.3 NODES CHECKING**"
   ]
  },
  {
   "cell_type": "code",
   "execution_count": null,
   "metadata": {},
   "outputs": [],
   "source": [
    "nodeSource = book1['Source']\n",
    "nodeSource = nodeSource.rename({'Source': 'Node'})\n",
    "nodeTarget = book1['Target']\n",
    "nodeTarget = nodeTarget.rename({'Target': 'Node'})"
   ]
  },
  {
   "cell_type": "code",
   "execution_count": null,
   "metadata": {},
   "outputs": [],
   "source": [
    "nodeChecking = nodeSource.append(nodeTarget)\n",
    "nodeChecking = nodeChecking.drop_duplicates()\n",
    "nodeChecking.reset_index(drop=True, inplace=True)\n",
    "r, = nodeChecking.shape\n",
    "print('NUMBER OF NODES: {}'.format(r))"
   ]
  },
  {
   "cell_type": "markdown",
   "metadata": {},
   "source": [
    "**There are *187* NODES in total of our networks. But any NULL VALUES in our dataframe?**"
   ]
  },
  {
   "cell_type": "markdown",
   "metadata": {},
   "source": [
    "**1.4 CHECKING NULL VALUES**"
   ]
  },
  {
   "cell_type": "code",
   "execution_count": null,
   "metadata": {},
   "outputs": [],
   "source": [
    " pd.isnull(book1).sum() > 0"
   ]
  },
  {
   "cell_type": "markdown",
   "metadata": {},
   "source": [
    "**NO NULL in our dataframe. PERFECT!!!. Let's move to next part**"
   ]
  },
  {
   "cell_type": "markdown",
   "metadata": {},
   "source": [
    "#**2. NETWORK BUILDING**"
   ]
  },
  {
   "cell_type": "code",
   "execution_count": null,
   "metadata": {},
   "outputs": [],
   "source": [
    "Graph = nx.Graph()\n",
    "for _, edge in book1.iterrows():\n",
    "    Graph.add_edge(edge['Source'], edge['Target'], weight=edge['weight'])"
   ]
  },
  {
   "cell_type": "markdown",
   "metadata": {},
   "source": [
    "**2.1 GEOMETRIC MEASURES**\n",
    "*   Degree Centrality\n",
    "*   Closeness Centrality"
   ]
  },
  {
   "cell_type": "markdown",
   "metadata": {},
   "source": [
    " **2.1.1 Degree Centrality**"
   ]
  },
  {
   "cell_type": "code",
   "execution_count": null,
   "metadata": {},
   "outputs": [],
   "source": [
    "degreeCen= nx.degree_centrality(Graph)\n",
    "dfDegreeCen = pd.DataFrame(list(degreeCen.items()),columns = ['Character','Degree Centrality'])\n",
    "dfDegreeCen.sort_values(\"Degree Centrality\", axis = 0, ascending = False, inplace = True) \n",
    "dfDegreeCen.head(5)"
   ]
  },
  {
   "cell_type": "code",
   "execution_count": null,
   "metadata": {},
   "outputs": [],
   "source": [
    "dfDegreeCen.to_csv(r'/content/drive/MyDrive/network/DegreeCentrality.csv', index = False)"
   ]
  },
  {
   "cell_type": "markdown",
   "metadata": {},
   "source": [
    "**2.1.2 Closeness Centrality**"
   ]
  },
  {
   "cell_type": "code",
   "execution_count": null,
   "metadata": {},
   "outputs": [],
   "source": [
    "closenessCen= nx.closeness_centrality(Graph)\n",
    "dfClosenessCen = pd.DataFrame(list(closenessCen.items()),columns = ['Character','Closeness Centrality'])\n",
    "dfClosenessCen.sort_values(\"Closeness Centrality\", axis = 0, ascending = False, inplace = True) \n",
    "dfClosenessCen.head(5)"
   ]
  },
  {
   "cell_type": "code",
   "execution_count": null,
   "metadata": {},
   "outputs": [],
   "source": [
    "dfClosenessCen.to_csv(r'/content/drive/MyDrive/network/ClosenessCentrality.csv', index = False)"
   ]
  },
  {
   "cell_type": "code",
   "execution_count": null,
   "metadata": {},
   "outputs": [],
   "source": [
    "**2.2 SPECTRAL MEASURES**\n",
    "\n",
    "*   Pagerank\n",
    "*   Eigenvector Centrality"
   ]
  },
  {
   "cell_type": "code",
   "execution_count": null,
   "metadata": {},
   "outputs": [],
   "source": [
    "**2.2.1 PageRank**"
   ]
  },
  {
   "cell_type": "code",
   "execution_count": null,
   "metadata": {},
   "outputs": [],
   "source": [
    "pageRank =nx.pagerank(Graph)\n",
    "dfPageRank = pd.DataFrame(list(pageRank.items()),columns = ['Character','PageRank'])\n",
    "dfPageRank.sort_values(\"PageRank\", axis = 0, ascending = False, inplace = True) \n",
    "dfPageRank.head(5)"
   ]
  },
  {
   "cell_type": "code",
   "execution_count": null,
   "metadata": {},
   "outputs": [],
   "source": [
    "**2.2.2 Eigenvector Centrality**"
   ]
  },
  {
   "cell_type": "code",
   "execution_count": null,
   "metadata": {},
   "outputs": [],
   "source": [
    "eigenCen = nx.eigenvector_centrality(Graph)\n",
    "dfEigenCen = pd.DataFrame(list(eigenCen.items()),columns = ['Character','Eigenvector Centrality'])\n",
    "dfEigenCen.sort_values(\"Eigenvector Centrality\", axis = 0, ascending = False, inplace = True) \n",
    "dfEigenCen.head(5)"
   ]
  },
  {
   "cell_type": "code",
   "execution_count": null,
   "metadata": {},
   "outputs": [],
   "source": [
    "dfEigenCen.to_csv(r'/content/drive/MyDrive/network/EigenvectorCentrality.csv', index = False)"
   ]
  },
  {
   "cell_type": "code",
   "execution_count": null,
   "metadata": {},
   "outputs": [],
   "source": [
    "**2.3 PATH-BASED MEASURES**\n",
    "\n",
    "*   Betweenness Centrality"
   ]
  },
  {
   "cell_type": "code",
   "execution_count": null,
   "metadata": {},
   "outputs": [],
   "source": [
    "betweenCen = nx.betweenness_centrality(Graph)\n",
    "dfBetweenCen = pd.DataFrame(list(betweenCen.items()),columns = ['Character','Betweenness Centrality'])\n",
    "dfBetweenCen.sort_values(\"Betweenness Centrality\", axis = 0, ascending = False, inplace = True) \n",
    "dfBetweenCen.head(5)"
   ]
  },
  {
   "cell_type": "code",
   "execution_count": null,
   "metadata": {},
   "outputs": [],
   "source": [
    "dfBetweenCen.to_csv(r'/content/drive/MyDrive/network/BetweennessCentrality.csv', index = False)"
   ]
  },
  {
   "cell_type": "code",
   "execution_count": null,
   "metadata": {},
   "outputs": [],
   "source": [
    "## **Let's sumary our network Cetrality**"
   ]
  },
  {
   "cell_type": "code",
   "execution_count": null,
   "metadata": {},
   "outputs": [],
   "source": [
    "sum = pd.DataFrame((dfDegreeCen['Character'].values,\n",
    "        dfClosenessCen['Character'].values,\n",
    "        dfPageRank['Character'].values,\n",
    "        dfEigenCen['Character'].values,\n",
    "        dfBetweenCen['Character'].values),\n",
    "        index=['Degree Centrality', 'Closeness Centrality', 'Pagerank', 'Eigenvector Centrality', 'Betweenness Centrality']).transpose()\n",
    "sum.head()"
   ]
  },
  {
   "cell_type": "code",
   "execution_count": null,
   "metadata": {},
   "outputs": [],
   "source": [
    "sum.to_csv(r'/content/drive/MyDrive/network/sumary.csv', index = False)"
   ]
  },
  {
   "cell_type": "code",
   "execution_count": null,
   "metadata": {},
   "outputs": [],
   "source": [
    "**2.4  COMMUNITY DETECTION**\n",
    "\n",
    "\n",
    "*   Modularity Clustering\n",
    "*   K-means Clustering"
   ]
  },
  {
   "cell_type": "code",
   "execution_count": null,
   "metadata": {},
   "outputs": [],
   "source": [
    "**2.4.1 Modularity Clustering**"
   ]
  },
  {
   "cell_type": "code",
   "execution_count": null,
   "metadata": {},
   "outputs": [],
   "source": [
    "on(Graph,weight='None')\n",
    "dfModulCluster = pd.DataFrame(list(modulCluster.items()),columns = ['Character','Community'])\n",
    "dfModulCluster.sort_values(\"Character\",  inplace = True) \n",
    "dfModulCluster.head(5)"
   ]
  },
  {
   "cell_type": "code",
   "execution_count": null,
   "metadata": {},
   "outputs": [],
   "source": [
    "dfModulCluster.to_csv(r'/content/drive/MyDrive/network/ModularityClustering.csv', index = False)"
   ]
  },
  {
   "cell_type": "code",
   "execution_count": null,
   "metadata": {},
   "outputs": [],
   "source": [
    "modulCommunity = dfModulCluster[\"Community\"].value_counts()\n",
    "modulCommunity = pd.DataFrame(list(modulCommunity.items()),columns = ['Community','Number of Character'])\n",
    "modulCommunity.sort_values(\"Community\",  inplace = True) \n",
    "modulCommunity.head(10)"
   ]
  },
  {
   "cell_type": "code",
   "execution_count": null,
   "metadata": {},
   "outputs": [],
   "source": [
    "**2.4.2 K-means Clustering**"
   ]
  },
  {
   "cell_type": "code",
   "execution_count": null,
   "metadata": {},
   "outputs": [],
   "source": [
    "def graph_to_edge_matrix(G):\n",
    "    edge_mat = np.zeros((len(G), len(G)), dtype=int)\n",
    "    for node in G:\n",
    "        for neighbor in G.neighbors(node):\n",
    "            edge_mat[node][neighbor] = 1\n",
    "        edge_mat[node][node] = 1\n",
    "\n",
    "    return edge_mat"
   ]
  },
  {
   "cell_type": "code",
   "execution_count": null,
   "metadata": {},
   "outputs": [],
   "source": [
    "nodeChecking.reset_index(drop=True, inplace=True)\n",
    "data_dict = nodeChecking.to_dict()\n",
    "data_dict = {v: k for k, v in data_dict.items()}"
   ]
  },
  {
   "cell_type": "code",
   "execution_count": null,
   "metadata": {},
   "outputs": [],
   "source": [
    "X = book1.copy()\n",
    "X.drop(['weight'],axis=1,inplace = True)\n",
    "X = X.replace({\"Source\": data_dict})\n",
    "X = X.replace({\"Target\": data_dict})"
   ]
  },
  {
   "cell_type": "code",
   "execution_count": null,
   "metadata": {},
   "outputs": [],
   "source": [
    "G = nx.Graph()\n",
    "for _, edge in X.iterrows():\n",
    "    G.add_edge(edge['Source'], edge['Target'])\n",
    "\n",
    "edge_mat = graph_to_edge_matrix(G)"
   ]
  },
  {
   "cell_type": "code",
   "execution_count": null,
   "metadata": {},
   "outputs": [],
   "source": [
    "kmeans = cluster.KMeans(n_clusters=7).fit(edge_mat)\n",
    "resultKmeans = kmeans.labels_"
   ]
  },
  {
   "cell_type": "code",
   "execution_count": null,
   "metadata": {},
   "outputs": [],
   "source": [
    "results = nodeChecking.to_dict()\n",
    "results = {v: k for k, v in results.items()}\n",
    "i = 0\n",
    "for key, value in results.items():\n",
    "    results[key] = resultKmeans[i]\n",
    "    i+=1"
   ]
  },
  {
   "cell_type": "code",
   "execution_count": null,
   "metadata": {},
   "outputs": [],
   "source": [
    "dfKmeansCluster = pd.DataFrame(list(results.items()),columns = ['Character','Community'])\n",
    "dfKmeansCluster.sort_values(\"Character\",  inplace = True) \n",
    "dfKmeansCluster.head(5)"
   ]
  },
  {
   "cell_type": "code",
   "execution_count": null,
   "metadata": {},
   "outputs": [],
   "source": [
    "dfKmeansCluster.to_csv(r'/content/drive/MyDrive/network/K-meansClustering.csv', index = False)"
   ]
  },
  {
   "cell_type": "code",
   "execution_count": null,
   "metadata": {},
   "outputs": [],
   "source": [
    "kmeansCommunity = dfKmeansCluster[\"Community\"].value_counts()\n",
    "kmeansCommunity = pd.DataFrame(list(kmeansCommunity.items()),columns = ['Community','Number of Character'])\n",
    "kmeansCommunity.sort_values(\"Community\",  inplace = True) \n",
    "kmeansCommunity.head(10)"
   ]
  }
 ],
 "metadata": {
  "kernelspec": {
   "display_name": "Python 3",
   "language": "python",
   "name": "python3"
  },
  "language_info": {
   "codemirror_mode": {
    "name": "ipython",
    "version": 3
   },
   "file_extension": ".py",
   "mimetype": "text/x-python",
   "name": "python",
   "nbconvert_exporter": "python",
   "pygments_lexer": "ipython3",
   "version": "3.8.5"
  }
 },
 "nbformat": 4,
 "nbformat_minor": 4
}
